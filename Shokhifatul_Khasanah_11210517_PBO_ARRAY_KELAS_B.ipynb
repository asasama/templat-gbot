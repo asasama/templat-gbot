{
  "nbformat": 4,
  "nbformat_minor": 0,
  "metadata": {
    "colab": {
      "provenance": []
    },
    "kernelspec": {
      "name": "python3",
      "display_name": "Python 3"
    },
    "language_info": {
      "name": "python"
    }
  },
  "cells": [
    {
      "cell_type": "code",
      "execution_count": 1,
      "metadata": {
        "colab": {
          "base_uri": "https://localhost:8080/"
        },
        "id": "5HMtqZk_vASs",
        "outputId": "3fe06b0e-6426-4c39-da4d-b87a0a804851"
      },
      "outputs": [
        {
          "output_type": "stream",
          "name": "stdout",
          "text": [
            "angsa\n",
            "10\n",
            "15\n",
            "Hasil Remove 14\n",
            "Hasil POP 13\n",
            "Hasil POP 12\n",
            "angsa\n",
            "bebek\n",
            "mentok\n",
            "kalkun\n",
            "maleo\n",
            "merak\n",
            "tinamus\n",
            "kate\n",
            "puyuh\n",
            "itik\n",
            "bangau\n",
            "gagak\n",
            "burung\n"
          ]
        }
      ],
      "source": [
        "\n",
        "unggas=[\"ayam\",\"angsa\",\"bebek\",\"pinguin\",\"mentok\",\"kalkun\",\"maleo\",\"merak\",\"tinamus\",\"kate\"]\n",
        "print(unggas[1])\n",
        "\n",
        "print(len(unggas))\n",
        "\n",
        "unggas.append(\"puyuh\")\n",
        "unggas.append(\"itik\")\n",
        "unggas.append(\"merpati\")\n",
        "unggas.append(\"bangau\")\n",
        "unggas.append(\"gagak\")\n",
        "\n",
        "print(len(unggas))\n",
        "\n",
        "unggas.remove(\"ayam\")\n",
        "\n",
        "print(\"Hasil Remove\", len(unggas))\n",
        "\n",
        "unggas.pop(2)\n",
        "\n",
        "print(\"Hasil POP\", len(unggas))\n",
        "\n",
        "unggas.pop(10)\n",
        "\n",
        "print(\"Hasil POP\", len(unggas))\n",
        "\n",
        "#Menyisipkan element array. Insert(data)\n",
        "\n",
        "#unggas [\"burung\", \"bebek\", \"pinguin\", \"mentok\", \"kalkun\", \"maleo\", \"merak\", \"tinamus\", \"kate\" \"puyuh\", \"itik\", \"merpati\", \"bangau\",]\n",
        "unggas.append(\"burung\")\n",
        "\n",
        "for datanya in unggas:\n",
        "  print(datanya)"
      ]
    }
  ]
}